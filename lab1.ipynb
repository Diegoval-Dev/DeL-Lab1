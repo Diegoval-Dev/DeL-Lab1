{
 "cells": [
  {
   "cell_type": "markdown",
   "id": "a17ab858",
   "metadata": {
    "deletable": false,
    "editable": false,
    "nbgrader": {
     "cell_type": "markdown",
     "checksum": "f54c12863d05d5ade7025efa16a8ffa4",
     "grade": false,
     "grade_id": "cell-f284b5366f0ad7b4",
     "locked": true,
     "schema_version": 3,
     "solution": false,
     "task": false
    }
   },
   "source": [
    "# Laboratorio 1\n",
    "\n",
    "Bienvenidos al primer laboratorio de Deep Learning y Sistemas Inteligentes. \n",
    "Espero que este laboratorio les sirva para consolidar sus conocimientos de las primeras dos semanas. \n",
    "\n",
    "Este laboratorio consta de dos partes. En la primera trabajaremos una Regresión Logística con un acercamiento más a una Red Neuronal. En la segunda fase, usaremos PyTorch para crear un modelo similar pero ya usando las herramientas de Deep Learning aunque aún implementando algunos pasos \"a mano\".\n",
    "\n",
    "Para este laboratorio estaremos usando una herramienta para Jupyter Notebooks que facilitará la calificación, no solo asegurándo que ustedes tengan una nota pronto sino también mostrandoles su nota final al terminar el laboratorio.\n",
    "\n",
    "Por favor noten que es primera vez que uso este acercamiento para laboratorios por ende, pido su compresión y colaboración si algo no funciona como debería. Ayúdenme a mejorarlo para las proximas iteraciones."
   ]
  },
  {
   "cell_type": "markdown",
   "id": "84512e07",
   "metadata": {
    "deletable": false,
    "editable": false,
    "nbgrader": {
     "cell_type": "markdown",
     "checksum": "12897a358201498039e1a6a6cff3fb86",
     "grade": false,
     "grade_id": "cell-fc7468c5d342067b",
     "locked": true,
     "schema_version": 3,
     "solution": false,
     "task": false
    }
   },
   "source": [
    "## Antes de Empezar\n",
    "Por favor actualicen o instalen la siguiente librería que sirve para visualizaciones de la calificacion, además de otras herramientas para calificar mejor las diferentes tareas.\n",
    "Pueden correr el comando mostrado abajo (quitando el signo de comentario) y luego reiniciar el kernel (sin antes volver a comentar la linea), o bien, pueden hacerlo sdesde una cmd del ambiente de Anaconda\n",
    "\n",
    "##### Creditos:\n",
    "Esta herramienta pertence a sus autores, Dr John Williamson et al."
   ]
  },
  {
   "cell_type": "code",
   "execution_count": null,
   "id": "46c4061d",
   "metadata": {
    "ExecuteTime": {
     "end_time": "2023-07-17T05:54:04.525917Z",
     "start_time": "2023-07-17T05:54:04.511956Z"
    }
   },
   "outputs": [],
   "source": [
    "#!pip install -U --force-reinstall --no-cache https://github.com/johnhw/jhwutils/zipball/master"
   ]
  },
  {
   "cell_type": "markdown",
   "id": "f3db4de4",
   "metadata": {
    "deletable": false,
    "editable": false,
    "nbgrader": {
     "cell_type": "markdown",
     "checksum": "2c50fe4479f26beaf7b22dffbfda141d",
     "grade": false,
     "grade_id": "cell-cf32c665cecd1e97",
     "locked": true,
     "schema_version": 3,
     "solution": false,
     "task": false
    }
   },
   "source": [
    "La librería previamente instalada también tiene una dependencia, por lo que necesitarán instalarla."
   ]
  },
  {
   "cell_type": "code",
   "execution_count": null,
   "id": "8dd52778",
   "metadata": {
    "ExecuteTime": {
     "end_time": "2023-07-17T05:54:04.541876Z",
     "start_time": "2023-07-17T05:54:04.526916Z"
    }
   },
   "outputs": [],
   "source": [
    "#!pip install scikit-image"
   ]
  },
  {
   "cell_type": "code",
   "execution_count": 15,
   "id": "279d2992",
   "metadata": {
    "ExecuteTime": {
     "end_time": "2023-07-17T05:54:05.629797Z",
     "start_time": "2023-07-17T05:54:04.543767Z"
    },
    "deletable": false,
    "editable": false,
    "nbgrader": {
     "cell_type": "code",
     "checksum": "43c5fdde8ac58326caffb558a292e5db",
     "grade": false,
     "grade_id": "cell-e565241ad66f8705",
     "locked": true,
     "schema_version": 3,
     "solution": false,
     "task": false
    }
   },
   "outputs": [],
   "source": [
    "import numpy as np\n",
    "import copy\n",
    "import matplotlib.pyplot as plt\n",
    "import scipy\n",
    "from PIL import Image\n",
    "import os\n",
    "\n",
    "# Other imports\n",
    "from unittest.mock import patch\n",
    "from uuid import getnode as get_mac\n",
    "\n",
    "from jhwutils.checkarr import array_hash, check_hash, check_scalar, check_string\n",
    "import jhwutils.image_audio as ia\n",
    "import jhwutils.tick as tick\n",
    "\n",
    "###\n",
    "tick.reset_marks()\n",
    "\n",
    "%matplotlib inline"
   ]
  },
  {
   "cell_type": "code",
   "execution_count": 16,
   "id": "6d10ff92",
   "metadata": {
    "ExecuteTime": {
     "end_time": "2023-07-17T05:54:05.645552Z",
     "start_time": "2023-07-17T05:54:05.633377Z"
    },
    "deletable": false,
    "editable": false,
    "nbgrader": {
     "cell_type": "code",
     "checksum": "40ca8bf9c630579c0d62a3f84416180a",
     "grade": true,
     "grade_id": "cell-8a38779c0bcab3ed",
     "locked": true,
     "points": 0,
     "schema_version": 3,
     "solution": false,
     "task": false
    }
   },
   "outputs": [],
   "source": [
    "# Hidden cell for utils needed when grading (you can/should not edit this)\n",
    "# Celda escondida para utlidades necesarias, por favor NO edite esta celda\n"
   ]
  },
  {
   "cell_type": "markdown",
   "id": "e8bc1998",
   "metadata": {},
   "source": [
    "###### Información del estudiante en dos variables\n",
    "\n",
    "* carne : un string con su carne (e.g. \"12281\"), debe ser de al menos 5 caracteres.\n",
    "* firma_mecanografiada: un string con su nombre (e.g. \"Albero Suriano\") que se usará para la declaracion que este trabajo es propio (es decir, no hay plagio)"
   ]
  },
  {
   "cell_type": "code",
   "execution_count": 17,
   "id": "c4efba3d",
   "metadata": {
    "ExecuteTime": {
     "end_time": "2023-07-17T05:54:05.660967Z",
     "start_time": "2023-07-17T05:54:05.651506Z"
    },
    "deletable": false,
    "nbgrader": {
     "cell_type": "code",
     "checksum": "c885d7bb94f6793a2b7ed63d3ed5ce70",
     "grade": false,
     "grade_id": "cell-1246e8ca70895ff3",
     "locked": false,
     "schema_version": 3,
     "solution": true,
     "task": false
    }
   },
   "outputs": [],
   "source": [
    "carne = \"22309 22281\"\n",
    "firma_mecanografiada = \"Diego Valenzuela y Gerson Ramirez\""
   ]
  },
  {
   "cell_type": "code",
   "execution_count": 19,
   "id": "b714ddb7",
   "metadata": {
    "ExecuteTime": {
     "end_time": "2023-07-17T05:54:05.676006Z",
     "start_time": "2023-07-17T05:54:05.662003Z"
    },
    "deletable": false,
    "editable": false,
    "nbgrader": {
     "cell_type": "code",
     "checksum": "a929af9d298972b113cb3465e9c19fff",
     "grade": true,
     "grade_id": "cell-8dfd0bfb302a67a4",
     "locked": true,
     "points": 0,
     "schema_version": 3,
     "solution": false,
     "task": false
    }
   },
   "outputs": [
    {
     "data": {
      "text/html": [
       "\n",
       "        <div class=\"alert alert-box alert-success\">\n",
       "        <h1> <!--{id:\"CORRECTMARK\", marks:\"0\"}--> \n",
       "         ✓ [0 marks] \n",
       "         </h1> </div>"
      ],
      "text/plain": [
       "<IPython.core.display.HTML object>"
      ]
     },
     "metadata": {},
     "output_type": "display_data"
    },
    {
     "data": {
      "text/html": [
       "\n",
       "        <div class=\"alert alert-box alert-success\">\n",
       "        <h1> <!--{id:\"CORRECTMARK\", marks:\"0\"}--> \n",
       "         ✓ [0 marks] \n",
       "         </h1> </div>"
      ],
      "text/plain": [
       "<IPython.core.display.HTML object>"
      ]
     },
     "metadata": {},
     "output_type": "display_data"
    }
   ],
   "source": [
    "# Deberia poder ver dos checkmarks verdes [0 marks], que indican que su información básica está OK \n",
    "\n",
    "with tick.marks(0): \n",
    "    assert(len(carne)>=5)\n",
    "\n",
    "with tick.marks(0):  \n",
    "    assert(len(firma_mecanografiada)>0)"
   ]
  },
  {
   "cell_type": "markdown",
   "id": "57fae6b1",
   "metadata": {
    "deletable": false,
    "editable": false,
    "nbgrader": {
     "cell_type": "markdown",
     "checksum": "5e363522c3a3b3f9b1aa9ff6bc7aa356",
     "grade": false,
     "grade_id": "cell-26f24e988c53220f",
     "locked": true,
     "schema_version": 3,
     "solution": false,
     "task": false
    }
   },
   "source": [
    "#### Dataset a Utilizar\n",
    "\n",
    "Para este laboratorio estaremos usando el dataset de Kaggle llamado [Cats and Dogs image classification](https://www.kaggle.com/datasets/samuelcortinhas/cats-and-dogs-image-classification).\n",
    "Por favor, descarguenlo y ponganlo en una carpeta/folder de su computadora local."
   ]
  },
  {
   "cell_type": "markdown",
   "id": "d46e901b",
   "metadata": {
    "deletable": false,
    "editable": false,
    "nbgrader": {
     "cell_type": "markdown",
     "checksum": "4ec134305bbd130d7e142f0bdfa2d8df",
     "grade": false,
     "grade_id": "cell-03e75b0f1db6d370",
     "locked": true,
     "schema_version": 3,
     "solution": false,
     "task": false
    }
   },
   "source": [
    "## Parte 1 - Regresión Logística como Red Neuronal\n",
    "\n",
    "**Créditos:** La primera parte de este laboratorio está tomado y basado en uno de los laboratorios dados dentro del curso de \"Neural Networks and Deep Learning\" de Andrew Ng"
   ]
  },
  {
   "cell_type": "code",
   "execution_count": 20,
   "id": "92216b13",
   "metadata": {
    "ExecuteTime": {
     "end_time": "2023-07-17T05:54:10.793007Z",
     "start_time": "2023-07-17T05:54:05.677003Z"
    },
    "deletable": false,
    "editable": false,
    "nbgrader": {
     "cell_type": "code",
     "checksum": "86de7c234f293db8d5bdcf206a2957d5",
     "grade": false,
     "grade_id": "cell-18e91a6f5fa731fb",
     "locked": true,
     "schema_version": 3,
     "solution": false,
     "task": false
    }
   },
   "outputs": [],
   "source": [
    "# Por favor cambien esta ruta a la que corresponda en sus maquinas\n",
    "data_dir = './data'\n",
    "\n",
    "train_images = []\n",
    "train_labels = []\n",
    "test_images = []\n",
    "test_labels = []\n",
    "\n",
    "def read_images(folder_path, label, target_size, color_mode='RGB'):\n",
    "    for filename in os.listdir(folder_path):\n",
    "        image_path = os.path.join(folder_path, filename)\n",
    "        # Use PIL to open the image\n",
    "        image = Image.open(image_path)\n",
    "        \n",
    "        # Convert to a specific color mode (e.g., 'RGB' or 'L' for grayscale)\n",
    "        image = image.convert(color_mode)\n",
    "        \n",
    "        # Resize the image to the target size\n",
    "        image = image.resize(target_size)\n",
    "\n",
    "        # Convert the image to a numpy array and add it to the appropriate list\n",
    "        if label == \"cats\":\n",
    "            if 'train' in folder_path:\n",
    "                train_images.append(np.array(image))\n",
    "                train_labels.append(0)  # Assuming 0 represents cats\n",
    "            else:\n",
    "                test_images.append(np.array(image))\n",
    "                test_labels.append(0)  # Assuming 0 represents cats\n",
    "        elif label == \"dogs\":\n",
    "            if 'train' in folder_path:\n",
    "                train_images.append(np.array(image))\n",
    "                train_labels.append(1)  # Assuming 1 represents dogs\n",
    "            else:\n",
    "                test_images.append(np.array(image))\n",
    "                test_labels.append(1)  # Assuming 1 represents dogs\n",
    "# Call the function for both the 'train' and 'test' folders\n",
    "train_cats_path = os.path.join(data_dir, 'train', 'cats')\n",
    "train_dogs_path = os.path.join(data_dir, 'train', 'dogs')\n",
    "test_cats_path = os.path.join(data_dir, 'test', 'cats')\n",
    "test_dogs_path = os.path.join(data_dir, 'test', 'dogs')\n",
    "\n",
    "\n",
    "# Read images\n",
    "target_size = (64, 64)\n",
    "read_images(train_cats_path, \"cats\", target_size)\n",
    "read_images(train_dogs_path, \"dogs\", target_size)\n",
    "read_images(test_cats_path, \"cats\", target_size)\n",
    "read_images(test_dogs_path, \"dogs\", target_size)"
   ]
  },
  {
   "cell_type": "code",
   "execution_count": 21,
   "id": "80692abf",
   "metadata": {
    "ExecuteTime": {
     "end_time": "2023-07-17T05:54:10.808858Z",
     "start_time": "2023-07-17T05:54:10.794803Z"
    }
   },
   "outputs": [],
   "source": [
    "# Convert the lists to numpy arrays\n",
    "train_images = np.array(train_images)\n",
    "train_labels = np.array(train_labels)\n",
    "test_images = np.array(test_images)\n",
    "test_labels = np.array(test_labels)\n",
    "\n",
    "# Reshape the labels\n",
    "train_labels = train_labels.reshape((1, len(train_labels)))\n",
    "test_labels = test_labels.reshape((1, len(test_labels)))"
   ]
  },
  {
   "cell_type": "code",
   "execution_count": 22,
   "id": "4c870ae4",
   "metadata": {
    "ExecuteTime": {
     "end_time": "2023-07-17T05:54:10.966964Z",
     "start_time": "2023-07-17T05:54:10.810722Z"
    },
    "deletable": false,
    "editable": false,
    "nbgrader": {
     "cell_type": "code",
     "checksum": "1f2670451cdd50c310706ca8ef7972b5",
     "grade": false,
     "grade_id": "cell-4b3d991a4904d924",
     "locked": true,
     "schema_version": 3,
     "solution": false,
     "task": false
    }
   },
   "outputs": [
    {
     "name": "stdout",
     "output_type": "stream",
     "text": [
      "y = 0, es una imagen de un gato\n"
     ]
    },
    {
     "data": {
      "image/png": "[encoded data removed]",
      "text/plain": [
       "<Figure size 640x480 with 1 Axes>"
      ]
     },
     "metadata": {},
     "output_type": "display_data"
    }
   ],
   "source": [
    "# Ejemplo de una imagen\n",
    "index = 25\n",
    "plt.imshow(train_images[index])\n",
    "print (\"y = \" + str(train_labels[0][index]) + \", es una imagen de un \" + 'gato' if train_labels[0][index]==0 else 'perro' +  \"'.\")"
   ]
  },
  {
   "cell_type": "markdown",
   "id": "860b8ad8",
   "metadata": {
    "deletable": false,
    "editable": false,
    "nbgrader": {
     "cell_type": "markdown",
     "checksum": "c6790081d218f26f7b8e4b672c9f41b9",
     "grade": false,
     "grade_id": "cell-07b3f1a61fa8e4a8",
     "locked": true,
     "schema_version": 3,
     "solution": false,
     "task": false
    }
   },
   "source": [
    "### Ejercicio 1\n",
    "Para este primer ejercicio, empezaremos con algo súper sencillo, lo cual será soalmente encontrar los valores de las dimensiones de los vectores con los que estamos trabajando\n",
    " * m_train: número de ejemplos de entrenamiento\n",
    " * m_test: número de ejemplos de testing\n",
    " * num_px: Alto y ancho de las imagenes"
   ]
  },
  {
   "cell_type": "code",
   "execution_count": 23,
   "id": "64e024e8",
   "metadata": {
    "ExecuteTime": {
     "end_time": "2023-07-17T05:54:10.982126Z",
     "start_time": "2023-07-17T05:54:10.968992Z"
    },
    "deletable": false,
    "nbgrader": {
     "cell_type": "code",
     "checksum": "76f91048a9c519d0a0e9d132a4c11ff3",
     "grade": false,
     "grade_id": "cell-4e0a90ac2a6c3fdb",
     "locked": false,
     "schema_version": 3,
     "solution": true,
     "task": false
    }
   },
   "outputs": [
    {
     "name": "stdout",
     "output_type": "stream",
     "text": [
      "Número de datos en entrenamiento: m_train = 557\n",
      "Número de datos en testing: m_test = 140\n",
      "Alto y ancho de cada imagen: num_px = 64\n",
      "Cada imagen tiene un tamañado de: (64, 64, 3)\n",
      "train_images shape: (557, 64, 64, 3)\n",
      "train_labels shape: (1, 557)\n",
      "test_images shape: (140, 64, 64, 3)\n",
      "test_labels shape: (1, 140)\n"
     ]
    }
   ],
   "source": [
    "#(Aproximadamente, 3 líneas de código)\n",
    "# m_train = \n",
    "# m_test = \n",
    "# num_px = \n",
    "# YOUR CODE HERE\n",
    "m_train = train_images.shape[0]\n",
    "m_test = test_images.shape[0]\n",
    "num_px = train_images.shape[1]\n",
    "\n",
    "print (\"Número de datos en entrenamiento: m_train = \" + str(m_train))\n",
    "print (\"Número de datos en testing: m_test = \" + str(m_test))\n",
    "print (\"Alto y ancho de cada imagen: num_px = \" + str(num_px))\n",
    "print (\"Cada imagen tiene un tamañado de: (\" + str(num_px) + \", \" + str(num_px) + \", 3)\")\n",
    "print (\"train_images shape: \" + str(train_images.shape))\n",
    "print (\"train_labels shape: \" + str(train_labels.shape))\n",
    "print (\"test_images shape: \" + str(test_images.shape))\n",
    "print (\"test_labels shape: \" + str(test_labels.shape))"
   ]
  },
  {
   "cell_type": "code",
   "execution_count": 24,
   "id": "28b3a356",
   "metadata": {
    "ExecuteTime": {
     "end_time": "2023-07-17T05:54:10.997865Z",
     "start_time": "2023-07-17T05:54:10.983820Z"
    },
    "deletable": false,
    "editable": false,
    "nbgrader": {
     "cell_type": "code",
     "checksum": "5096090ab4671b267199deaf5812a940",
     "grade": true,
     "grade_id": "cell-21348a11fe53bc1e",
     "locked": true,
     "points": 5,
     "schema_version": 3,
     "solution": false,
     "task": false
    }
   },
   "outputs": [
    {
     "data": {
      "text/html": [
       "\n",
       "        <div class=\"alert alert-box alert-success\">\n",
       "        <h1> <!--{id:\"CORRECTMARK\", marks:\"2\"}--> \n",
       "         ✓ [2 marks] \n",
       "         </h1> </div>"
      ],
      "text/plain": [
       "<IPython.core.display.HTML object>"
      ]
     },
     "metadata": {},
     "output_type": "display_data"
    },
    {
     "data": {
      "text/html": [
       "\n",
       "        <div class=\"alert alert-box alert-success\">\n",
       "        <h1> <!--{id:\"CORRECTMARK\", marks:\"2\"}--> \n",
       "         ✓ [2 marks] \n",
       "         </h1> </div>"
      ],
      "text/plain": [
       "<IPython.core.display.HTML object>"
      ]
     },
     "metadata": {},
     "output_type": "display_data"
    },
    {
     "data": {
      "text/html": [
       "\n",
       "        <div class=\"alert alert-box alert-success\">\n",
       "        <h1> <!--{id:\"CORRECTMARK\", marks:\"1\"}--> \n",
       "         ✓ [1 marks] \n",
       "         </h1> </div>"
      ],
      "text/plain": [
       "<IPython.core.display.HTML object>"
      ]
     },
     "metadata": {},
     "output_type": "display_data"
    }
   ],
   "source": [
    "with tick.marks(2):\n",
    "    assert m_train == 557\n",
    "with tick.marks(2):\n",
    "    assert m_test == 140\n",
    "with tick.marks(1):\n",
    "    assert num_px == 64"
   ]
  },
  {
   "cell_type": "markdown",
   "id": "c8baa5eb",
   "metadata": {
    "deletable": false,
    "editable": false,
    "nbgrader": {
     "cell_type": "markdown",
     "checksum": "53b14e24e1f2175f40291a4842ecbcbe",
     "grade": false,
     "grade_id": "cell-bd11db2dab077a99",
     "locked": true,
     "schema_version": 3,
     "solution": false,
     "task": false
    }
   },
   "source": [
    "### Ejercicio 2\n",
    " \n",
    " Para conveniencia, deberán cambiar la forma (reshape) de las imagenes (num_px, num_px, 3) en cada numpy-array a una forma de (num_px $*$ num_px $*$ 3, 1). De esta manera, tanto el training como testing dataset sera un numpy-array donde cada columna representa una imagen \"aplanada\". Deberán haber m_train y m_test columnas\n",
    " \n",
    "\n",
    "Entonces, para este ejercicio deben cambiar la forma (reshape) de tanto el dataset de entrenamiento como el de pruebas (training y testing) de esa forma, obtener un vector de la forma mencionada anteriormente (num\\_px $*$ num\\_px $*$ 3, 1)\n",
    "\n",
    "Una forma de poder \"aplanar\" una matriz de forma (a,b,c,d) a una matriz de de forma (b$*$c$*$d, a), es usar el método \"reshape\" y luego obtener la transpuesta\n",
    "\n",
    "```python\n",
    "X_flatten = X.reshape(X.shape[0], -1).T      # X.T es la transpuesta de X\n",
    "```"
   ]
  },
  {
   "cell_type": "code",
   "execution_count": 25,
   "id": "bf9a4db5",
   "metadata": {
    "ExecuteTime": {
     "end_time": "2023-07-17T05:54:11.012852Z",
     "start_time": "2023-07-17T05:54:11.000904Z"
    },
    "deletable": false,
    "nbgrader": {
     "cell_type": "code",
     "checksum": "11c480f908daf9f56f76a9014074a503",
     "grade": false,
     "grade_id": "cell-5b2affbf8fc173eb",
     "locked": false,
     "schema_version": 3,
     "solution": true,
     "task": false
    }
   },
   "outputs": [
    {
     "name": "stdout",
     "output_type": "stream",
     "text": [
      "train_images_flatten shape: (12288, 557)\n",
      "train_labels shape: (1, 557)\n",
      "test_images_flatten shape: (12288, 140)\n",
      "test_labels shape: (1, 140)\n"
     ]
    }
   ],
   "source": [
    "#(Aproximadamente, 2 líneas de código)\n",
    "# train_images_flatten = \n",
    "# test_images_flatten = \n",
    "# YOUR CODE HERE\n",
    "train_images_flatten = train_images.reshape(train_images.shape[0], -1).T\n",
    "test_images_flatten = test_images.reshape(test_images.shape[0], -1).T\n",
    "\n",
    "print (\"train_images_flatten shape: \" + str(train_images_flatten.shape))\n",
    "print (\"train_labels shape: \" + str(train_labels.shape))\n",
    "print (\"test_images_flatten shape: \" + str(test_images_flatten.shape))\n",
    "print (\"test_labels shape: \" + str(test_labels.shape))"
   ]
  },
  {
   "cell_type": "code",
   "execution_count": 26,
   "id": "92a5fc4c",
   "metadata": {
    "ExecuteTime": {
     "end_time": "2023-07-17T05:54:11.028777Z",
     "start_time": "2023-07-17T05:54:11.016810Z"
    },
    "deletable": false,
    "editable": false,
    "nbgrader": {
     "cell_type": "code",
     "checksum": "6bb05df7b9e87acf4ab4feb61625832a",
     "grade": true,
     "grade_id": "cell-cfd337766b4a3c86",
     "locked": true,
     "points": 5,
     "schema_version": 3,
     "solution": false,
     "task": false
    }
   },
   "outputs": [],
   "source": [
    "\n",
    "\n",
    "# Test escondido para revisar algunos pixeles de las imagenes en el array aplanado \n",
    "# Tanto en training [3 marks]\n",
    "# Como en test [2 marks]"
   ]
  },
  {
   "cell_type": "markdown",
   "id": "69f4abd3",
   "metadata": {
    "deletable": false,
    "editable": false,
    "nbgrader": {
     "cell_type": "markdown",
     "checksum": "b7bc70ff79a246996b2cf358dadbd3ec",
     "grade": false,
     "grade_id": "cell-cb14a8a48c39ca45",
     "locked": true,
     "schema_version": 3,
     "solution": false,
     "task": false
    }
   },
   "source": [
    "Para representar el color de las imagenes (rojo, verde y azul - RGB) los canales deben ser específicados para cada pixel, y cada valor de pixel es de hecho un vector de tres números entre 0 y 255.\n",
    "\n",
    "Una forma muy comun de preprocesar en ML es el centrar y estandarizar el dataset, es decir que se necesita restar la media de todo el array para cada ejemplo, y luego dividir cada observacion por la desviación estándar de todo el numpy array. Pero para dataset de imagenes, es más simple y más conveniente además que funciona tan bien, el solo dividir cada fila del dataset por 255 (el máximo del valor de pixeles posible.\n",
    "\n",
    "Por ello, ahora estandarizaremos el dataset\n"
   ]
  },
  {
   "cell_type": "code",
   "execution_count": 27,
   "id": "dada7a0f",
   "metadata": {
    "ExecuteTime": {
     "end_time": "2023-07-17T05:54:11.060556Z",
     "start_time": "2023-07-17T05:54:11.030772Z"
    },
    "deletable": false,
    "editable": false,
    "nbgrader": {
     "cell_type": "code",
     "checksum": "efcfa0e9a7c9e565e1a77acb929ca3d1",
     "grade": false,
     "grade_id": "cell-e2fa8be19903fdf1",
     "locked": true,
     "schema_version": 3,
     "solution": false,
     "task": false
    }
   },
   "outputs": [],
   "source": [
    "train_set_x = train_images_flatten / 255.\n",
    "test_set_x = test_images_flatten / 255."
   ]
  },
  {
   "cell_type": "markdown",
   "id": "194e9855",
   "metadata": {
    "deletable": false,
    "editable": false,
    "nbgrader": {
     "cell_type": "markdown",
     "checksum": "f25be7edf5d0455c35f68d120013982a",
     "grade": false,
     "grade_id": "cell-dc46a253e01b4aab",
     "locked": true,
     "schema_version": 3,
     "solution": false,
     "task": false
    }
   },
   "source": [
    "### Arquitectura General\n",
    "Ahora empezaremos a construir un algoritmo que nos permita diferenciar perros de gatos.\n",
    "\n",
    "Para esto estaremos construyendo una Regresión Logística, usando un pensamiento de una Red Neuronal. Si se observa la siguiente imagen, se puede apreciar porque hemos dicho que la **Regresión Logística es de hecho una Red Neuronal bastante simple.** \n",
    "\n",
    "Recordemos la expresión matematica vista en clase.\n",
    "\n",
    "Por ejemplo para una observación $x^{(i)}$:\n",
    "$$z^{(i)} = w^T x^{(i)} + b \\tag{1}$$\n",
    "$$\\hat{y}^{(i)} = a^{(i)} = sigmoid(z^{(i)})\\tag{2}$$ \n",
    "$$ \\mathcal{L}(a^{(i)}, y^{(i)}) =  - y^{(i)}  \\log(a^{(i)}) - (1-y^{(i)} )  \\log(1-a^{(i)})\\tag{3}$$\n",
    "$$ J = \\frac{1}{m} \\sum_{i=1}^m \\mathcal{L}(a^{(i)}, y^{(i)})\\tag{4}$$\n",
    "\n"
   ]
  },
  {
   "cell_type": "markdown",
   "id": "59b71364",
   "metadata": {
    "deletable": false,
    "editable": false,
    "nbgrader": {
     "cell_type": "markdown",
     "checksum": "dd508577af44b4a7244a75f10a7d9cd5",
     "grade": false,
     "grade_id": "cell-743a089c4c9113e5",
     "locked": true,
     "schema_version": 3,
     "solution": false,
     "task": false
    }
   },
   "source": [
    "Recordemos que los pasos más importantes para construir una Red Neuronal son:\n",
    "1. Definir la estructura del modelo (como el número de features de entrada)\n",
    "2. Inicializar los parámetros del modelo\n",
    "3. Iterar de la siguiente forma:\n",
    "    a. Calcular la pérdida (forward)\n",
    "    b. Calcular el gradiente actual (backward propagation)\n",
    "    c. Actualizar los parámetros (gradiente descendiente)\n",
    "\n",
    "Usualmente se crean estos pasos de forma separada para luego ser integrados en una función llamada \"model()\"\n",
    "\n",
    "Antes de continuiar, necesitamos definir una función de soporte, conocida como sigmoide\n",
    "Recuerden que para hacer predicciones, necesitamos calcular: \n",
    "$sigmoid(z) = \\frac{1}{1 + e^{-z}}$ para $z = w^T x + b$\n"
   ]
  },
  {
   "cell_type": "code",
   "execution_count": 28,
   "id": "98d9422e",
   "metadata": {
    "ExecuteTime": {
     "end_time": "2023-07-17T05:54:11.076570Z",
     "start_time": "2023-07-17T05:54:11.064182Z"
    },
    "deletable": false,
    "editable": false,
    "nbgrader": {
     "cell_type": "code",
     "checksum": "e08d787ef48eec828840ca4fbf32ce1a",
     "grade": false,
     "grade_id": "cell-9b8dba89b6ef9400",
     "locked": true,
     "schema_version": 3,
     "solution": false,
     "task": false
    }
   },
   "outputs": [],
   "source": [
    "def sigmoid(z):\n",
    "    \"\"\"\n",
    "    Computa el valor sigmoide de z\n",
    "\n",
    "    Arguments:\n",
    "    z: Un escalar o un numpy array \n",
    "\n",
    "    Return:\n",
    "    s: sigmoide(z)\n",
    "    \"\"\"\n",
    "    s = 1 / (1 + np.exp(-z))\n",
    "        \n",
    "    return s"
   ]
  },
  {
   "cell_type": "markdown",
   "id": "65aed255",
   "metadata": {},
   "source": [
    "### Ejercicio 3 - Inicializando parámetros con cero\n",
    "\n",
    "Implemente la inicialización de parámetros. Tiene que inicializar w como un vector de zeros, considere usar np.zeros()"
   ]
  },
  {
   "cell_type": "code",
   "execution_count": 29,
   "id": "7a79ea6d",
   "metadata": {
    "ExecuteTime": {
     "end_time": "2023-07-17T05:54:11.092106Z",
     "start_time": "2023-07-17T05:54:11.077947Z"
    },
    "deletable": false,
    "nbgrader": {
     "cell_type": "code",
     "checksum": "057ca28e135fe813c016cbf43d62e71e",
     "grade": false,
     "grade_id": "cell-6c59e7a07459b074",
     "locked": false,
     "schema_version": 3,
     "solution": true,
     "task": false
    }
   },
   "outputs": [],
   "source": [
    "def initialize_with_zeros(dim):\n",
    "    \"\"\"\n",
    "    This function creates a vector of zeros of shape (dim, 1) for w and initializes b to 0.\n",
    "    Crea un vector de zeros de dimensión (dim, 1) para w, inicia b como cero\n",
    "    \n",
    "    Argument:\n",
    "    dim: Tamaño \n",
    "    \n",
    "    Returns:\n",
    "    w: Vector w (dim, 1)\n",
    "    b: Escalar, debe ser flotante\n",
    "    \"\"\"\n",
    "\n",
    "    # Aprox 2 línas de código\n",
    "    # w = \n",
    "    # b = \n",
    "    w = np.zeros((dim, 1))\n",
    "    b = 0.0\n",
    "\n",
    "    return w, b"
   ]
  },
  {
   "cell_type": "code",
   "execution_count": 30,
   "id": "72e45d5a",
   "metadata": {
    "ExecuteTime": {
     "end_time": "2023-07-17T05:54:11.107970Z",
     "start_time": "2023-07-17T05:54:11.093103Z"
    },
    "deletable": false,
    "editable": false,
    "nbgrader": {
     "cell_type": "code",
     "checksum": "5b21d4fb23951eda8221d0626dbcec06",
     "grade": true,
     "grade_id": "cell-4e7905fcde03b7f1",
     "locked": true,
     "points": 3,
     "schema_version": 3,
     "solution": false,
     "task": false
    }
   },
   "outputs": [
    {
     "name": "stdout",
     "output_type": "stream",
     "text": [
      "w = [[0.]\n",
      " [0.]\n",
      " [0.]]\n",
      "b = 0.0\n"
     ]
    }
   ],
   "source": [
    "dim = 3 # No cambiar esta dimensión por favor\n",
    "w, b = initialize_with_zeros(dim)\n",
    "\n",
    "print (\"w = \" + str(w))\n",
    "print (\"b = \" + str(b))\n",
    "\n"
   ]
  },
  {
   "cell_type": "markdown",
   "id": "d90b50f7",
   "metadata": {
    "deletable": false,
    "editable": false,
    "nbgrader": {
     "cell_type": "markdown",
     "checksum": "d6a39770bc35f40568bdf016ce49313a",
     "grade": false,
     "grade_id": "cell-a0ac21de9c0d235a",
     "locked": true,
     "schema_version": 3,
     "solution": false,
     "task": false
    }
   },
   "source": [
    "### Ejercicio 4 - Forward and Backward propagation\n",
    "Tras inicializar los parámetros, necesitamos hacer el paso de \"forward\" y \"backward propagation\" para optimizar los parámetros.\n",
    "\n",
    "Para empezar, implemente la función \"propagate()\" que calcula la función de costo y su gradiente. \n",
    "\n",
    "**Recuerde**\n",
    "* Si tiene X\n",
    "* Se puede calcular $A = \\sigma(w^T X + b) = (a^{(1)}, a^{(2)}, ..., a^{(m-1)}, a^{(m)})$\n",
    "* Y luego se puede calcular la función de costo: $J = -\\frac{1}{m}\\sum_{i=1}^{m}(y^{(i)}\\log(a^{(i)})+(1-y^{(i)})\\log(1-a^{(i)}))$\n",
    "\n",
    "Por ende recuerd estas fórmulas (que probablemente estará usando):\n",
    "$$ \\frac{\\partial J}{\\partial w} = \\frac{1}{m}X(A-Y)^T\\tag{5}$$\n",
    "$$ \\frac{\\partial J}{\\partial b} = \\frac{1}{m} \\sum_{i=1}^m (a^{(i)}-y^{(i)})\\tag{6}$$\n"
   ]
  },
  {
   "cell_type": "code",
   "execution_count": 31,
   "id": "1fd9cdfe",
   "metadata": {
    "ExecuteTime": {
     "end_time": "2023-07-17T05:54:11.123680Z",
     "start_time": "2023-07-17T05:54:11.108924Z"
    },
    "deletable": false,
    "nbgrader": {
     "cell_type": "code",
     "checksum": "c6c88fba91cb5a3f18290608c5ae5f0f",
     "grade": false,
     "grade_id": "cell-414b6b1a6e6b100a",
     "locked": false,
     "schema_version": 3,
     "solution": true,
     "task": false
    }
   },
   "outputs": [],
   "source": [
    "\n",
    "def propagate(w, b, X, Y):\n",
    "    \"\"\"\n",
    "    Implementa la función de costo y su gradiente \n",
    "\n",
    "    Arguments:\n",
    "    w: Pesos (num_px * num_px * 3, 1)\n",
    "    b: bias, un escalar\n",
    "    X: Data (num_px * num_px * 3, n ejemplos)\n",
    "    Y: Etiquetas verdaderas (1, n ejemplos)\n",
    "\n",
    "    Return:\n",
    "    cost: Log-likelihood negativo \n",
    "    dw: Gradiente de la pérdida con respecto de w\n",
    "    db: Gradiente de la pérdida con respecto de b\n",
    "    \n",
    "    Tips: Recuerde escribir su código paso por paso para la propagación, considere usar np.log y np.dot()\n",
    "    \"\"\"\n",
    "    \n",
    "    m = X.shape[1]\n",
    "        \n",
    "    \n",
    "    # Forward propagation\n",
    "    # Aproximadamente 2 líneas de código para:\n",
    "    # A = \n",
    "    # C = \n",
    "    # Recuerde que no debe usar ciclos y considere usar np.dot\n",
    "    # Backward propagation \n",
    "    # Aproximadamente 2 líneas de código para:\n",
    "    # dw =\n",
    "    # db = \n",
    "    # Es decir, se esperan aprox 4 líneas de código\n",
    "    A = sigmoid(np.dot(w.T, X) + b) \n",
    "    cost = - (1/m) * np.sum(Y * np.log(A) + (1 - Y) * np.log(1 - A))\n",
    "    dw = (1/m) * np.dot(X, (A - Y).T)\n",
    "    db = (1/m) * np.sum(A - Y) \n",
    "    cost = np.squeeze(np.array(cost))\n",
    "\n",
    "    \n",
    "    grads = {\"dw\": dw,\n",
    "             \"db\": db}\n",
    "    \n",
    "    return grads, cost"
   ]
  },
  {
   "cell_type": "code",
   "execution_count": 32,
   "id": "250593c3",
   "metadata": {
    "ExecuteTime": {
     "end_time": "2023-07-17T05:54:11.138590Z",
     "start_time": "2023-07-17T05:54:11.124680Z"
    },
    "deletable": false,
    "editable": false,
    "nbgrader": {
     "cell_type": "code",
     "checksum": "881a39beca02e58c3b3c7d9ec41e2055",
     "grade": true,
     "grade_id": "cell-c5990f67773dd846",
     "locked": true,
     "points": 3,
     "schema_version": 3,
     "solution": false,
     "task": false
    }
   },
   "outputs": [
    {
     "name": "stdout",
     "output_type": "stream",
     "text": [
      "dw = [[ 0.00055672]\n",
      " [-0.00048178]]\n",
      "db = -0.0003283816747260056\n",
      "cost = 0.000329022626806518\n"
     ]
    },
    {
     "data": {
      "text/html": [
       "\n",
       "        <div class=\"alert alert-box alert-success\">\n",
       "        <h1> <!--{id:\"CORRECTMARK\", marks:\"0\"}--> \n",
       "         ✓ [0 marks] \n",
       "         </h1> </div>"
      ],
      "text/plain": [
       "<IPython.core.display.HTML object>"
      ]
     },
     "metadata": {},
     "output_type": "display_data"
    },
    {
     "data": {
      "text/html": [
       "\n",
       "        <div class=\"alert alert-box alert-success\">\n",
       "        <h1> <!--{id:\"CORRECTMARK\", marks:\"0\"}--> \n",
       "         ✓ [0 marks] \n",
       "         </h1> </div>"
      ],
      "text/plain": [
       "<IPython.core.display.HTML object>"
      ]
     },
     "metadata": {},
     "output_type": "display_data"
    },
    {
     "data": {
      "text/html": [
       "\n",
       "        <div class=\"alert alert-box alert-success\">\n",
       "        <h1> <!--{id:\"CORRECTMARK\", marks:\"0\"}--> \n",
       "         ✓ [0 marks] \n",
       "         </h1> </div>"
      ],
      "text/plain": [
       "<IPython.core.display.HTML object>"
      ]
     },
     "metadata": {},
     "output_type": "display_data"
    }
   ],
   "source": [
    "w =  np.array([[1.], [3]])\n",
    "b = 4.5\n",
    "X = np.array([[2., -2., -3.], [1., 1.5, -5.2]])\n",
    "Y = np.array([[1, 1, 0]])\n",
    "grads, cost = propagate(w, b, X, Y)\n",
    "\n",
    "\n",
    "print (\"dw = \" + str(grads[\"dw\"]))\n",
    "print (\"db = \" + str(grads[\"db\"]))\n",
    "print (\"cost = \" + str(cost))\n",
    "\n",
    "\n",
    "with tick.marks(0): \n",
    "    assert type(grads[\"dw\"]) == np.ndarray\n",
    "with tick.marks(0): \n",
    "    assert grads[\"dw\"].shape == (2, 1)\n",
    "with tick.marks(0): \n",
    "    assert type(grads[\"db\"]) == np.float64\n",
    "\n"
   ]
  },
  {
   "cell_type": "markdown",
   "id": "b38ca233",
   "metadata": {
    "deletable": false,
    "editable": false,
    "nbgrader": {
     "cell_type": "markdown",
     "checksum": "7e4394b32be261be48256cb67e3422ae",
     "grade": false,
     "grade_id": "cell-793263fa0061d00a",
     "locked": true,
     "schema_version": 3,
     "solution": false,
     "task": false
    }
   },
   "source": [
    "### Ejercicio 5 - Optimización\n",
    "\n",
    "Escriba una función de optimización. El objetivo es aprender $w$ y $b$ al minimizar la función de costo $J$. Para un parametro $\\theta$, la regla de actualización es $ \\theta = \\theta - \\alpha \\text{ } d\\theta$, donde $\\alpha$ es el learning rate.\n"
   ]
  },
  {
   "cell_type": "code",
   "execution_count": 33,
   "id": "61a7fd87",
   "metadata": {
    "ExecuteTime": {
     "end_time": "2023-07-17T05:54:11.154437Z",
     "start_time": "2023-07-17T05:54:11.139591Z"
    },
    "deletable": false,
    "nbgrader": {
     "cell_type": "code",
     "checksum": "607a636364b6f1ce71b656e86379a210",
     "grade": false,
     "grade_id": "cell-fd0933dd47718545",
     "locked": false,
     "schema_version": 3,
     "solution": true,
     "task": false
    }
   },
   "outputs": [],
   "source": [
    "\n",
    "def optimize(w, b, X, Y, num_iterations=100, learning_rate=0.009, print_cost=False):\n",
    "    \"\"\"\n",
    "    Función que optmiza w y b al ejecutar el algoritmo de gradiente descendiente\n",
    "    \n",
    "    Arguments:\n",
    "    w: Pesos (num_px * num_px * 3, 1)\n",
    "    b: bias, un escalar\n",
    "    X: Data (num_px * num_px * 3, n ejemplos)\n",
    "    Y: Etiquetas verdaderas (1, n ejemplos)\n",
    "    num_iterations: Número de iteraciones\n",
    "    learning_rate: Learning rate\n",
    "    print_cost: True para mostrar la pérdida cada 100 pasos\n",
    "    \n",
    "    Returns:\n",
    "    params: Dictionario con w y b\n",
    "    grads: Dictionario con las gradientes de los pesos y bias con respecto a J\n",
    "    costs: Lista de todos los costos calculados\n",
    "    \n",
    "    Hints:\n",
    "    Necesita escribir dos pasos de la iteracion:\n",
    "        1. Calcular el costo y la gradiente de los parámetros actuales, Use propagate(), la funcion que definió antes\n",
    "        2. Actualice los parametros usando la regla de gradiente descendiente para w y b\n",
    "    \"\"\"\n",
    "    \n",
    "    w = copy.deepcopy(w)\n",
    "    b = copy.deepcopy(b)\n",
    "    \n",
    "    costs = []\n",
    "    \n",
    "    for i in range(num_iterations):\n",
    "        # Aprox 1 línea de codigo para:\n",
    "        # grads, cost = \n",
    "        # YOUR CODE HERE\n",
    "        grads, cost = propagate(w, b, X, Y)\n",
    "        \n",
    "        # Retrieve derivatives from grads\n",
    "        dw = grads[\"dw\"]\n",
    "        db = grads[\"db\"]\n",
    "        \n",
    "\n",
    "        # Aprox 2 lineas de codigo para:\n",
    "        # w =\n",
    "        # b = \n",
    "        # YOUR CODE HERE\n",
    "        w = w - learning_rate * dw\n",
    "        b = b - learning_rate * db\n",
    "        \n",
    "        # Record the costs\n",
    "        if i % 100 == 0:\n",
    "            costs.append(cost)\n",
    "        \n",
    "            # Print the cost every 100 training iterations\n",
    "            if print_cost:\n",
    "                print (\"Cost after iteration %i: %f\" %(i, cost))\n",
    "    \n",
    "    params = {\"w\": w,\n",
    "              \"b\": b}\n",
    "    \n",
    "    grads = {\"dw\": dw,\n",
    "             \"db\": db}\n",
    "    \n",
    "    return params, grads, costs"
   ]
  },
  {
   "cell_type": "code",
   "execution_count": 34,
   "id": "67a5d1f9",
   "metadata": {
    "ExecuteTime": {
     "end_time": "2023-07-17T05:54:11.184630Z",
     "start_time": "2023-07-17T05:54:11.156435Z"
    },
    "deletable": false,
    "editable": false,
    "nbgrader": {
     "cell_type": "code",
     "checksum": "cbd8a5b931cc547973ad7fc726d5b222",
     "grade": true,
     "grade_id": "cell-f6349f761a749b03",
     "locked": true,
     "points": 5,
     "schema_version": 3,
     "solution": false,
     "task": false
    }
   },
   "outputs": [
    {
     "name": "stdout",
     "output_type": "stream",
     "text": [
      "w = [[0.99949949]\n",
      " [3.00043321]]\n",
      "b = 4.50029528361711\n",
      "dw = [[ 0.00055554]\n",
      " [-0.00048091]]\n",
      "db = -0.0003278045123969942\n",
      "Costs = [array(0.00032902)]\n"
     ]
    }
   ],
   "source": [
    "# Recuerde NO cambiar esto por favor\n",
    "params, grads, costs = optimize(w, b, X, Y, num_iterations=100, learning_rate=0.009, print_cost=False)\n",
    "\n",
    "print (\"w = \" + str(params[\"w\"]))\n",
    "print (\"b = \" + str(params[\"b\"]))\n",
    "print (\"dw = \" + str(grads[\"dw\"]))\n",
    "print (\"db = \" + str(grads[\"db\"]))\n",
    "print(\"Costs = \" + str(costs))\n"
   ]
  },
  {
   "cell_type": "markdown",
   "id": "cfa1d004",
   "metadata": {
    "ExecuteTime": {
     "end_time": "2023-07-17T02:12:57.430251Z",
     "start_time": "2023-07-17T02:12:57.423375Z"
    },
    "deletable": false,
    "editable": false,
    "nbgrader": {
     "cell_type": "markdown",
     "checksum": "5a38ce9a62679f1eb5067c3222707b03",
     "grade": false,
     "grade_id": "cell-183c765ab83de320",
     "locked": true,
     "schema_version": 3,
     "solution": false,
     "task": false
    }
   },
   "source": [
    "### Ejercicio 6 - Predicción\n",
    "\n",
    "Con w y b calculados, ahora podemos hacer predicciones del dataset. Ahora implemente la función \"predict()\". \n",
    "Considere que hay dos pasos en la función de predicción:\n",
    "\n",
    "1. Calcular  $\\hat{Y} = A = \\sigma(w^T X + b)$\n",
    "2. Convertir la entrada a un 0 (si la activación es <= 0.5) o 1 (si la activación fue > 0.5), y guardar esta predicción en un vector \"Y_prediction\". "
   ]
  },
  {
   "cell_type": "code",
   "execution_count": 35,
   "id": "28b82c5c",
   "metadata": {
    "ExecuteTime": {
     "end_time": "2023-07-17T05:54:11.200023Z",
     "start_time": "2023-07-17T05:54:11.186109Z"
    },
    "deletable": false,
    "nbgrader": {
     "cell_type": "code",
     "checksum": "e2102f35c80af5b97b14aa3207e434ca",
     "grade": false,
     "grade_id": "cell-9e4535ab9c60ef0b",
     "locked": false,
     "schema_version": 3,
     "solution": true,
     "task": false
    }
   },
   "outputs": [],
   "source": [
    "\n",
    "def predict(w, b, X):\n",
    "    '''\n",
    "    Predice si la etiqueta es 0 o 1 usando lo aprendido\n",
    "    \n",
    "    Arguments:\n",
    "    w: Pesos (num_px * num_px * 3, 1)\n",
    "    b: bias, un escalar\n",
    "    X: Data (num_px * num_px * 3, n ejemplos)\n",
    "    \n",
    "    Returns:\n",
    "    Y_prediction: Numpy Array con las predicciones \n",
    "    '''\n",
    "    \n",
    "    m = X.shape[1]\n",
    "    Y_prediction = np.zeros((1, m))\n",
    "    w = w.reshape(X.shape[0], 1)\n",
    "    \n",
    "    # Calcule el vector A para predicir probabilidades de que sea un gato o un perro\n",
    "    # Aprox 1 linea de codigo para:\n",
    "    # A =     \n",
    "    # YOUR CODE HERE\n",
    "    A = sigmoid(np.dot(w.T, X) + b)\n",
    "    \n",
    "    for i in range(A.shape[1]):\n",
    "        \n",
    "\n",
    "        # Aprox 4 lineas de codigo para convertir A[0,i] en una predicción:\n",
    "        # if A[0, i] > ____ :\n",
    "        #     Y_prediction[0,i] = \n",
    "        # else:\n",
    "        #     Y_prediction[0,i] =\n",
    "        # YOUR CODE HERE\n",
    "        Y_prediction[0, i] = 1 if A[0, i] > 0.5 else 0\n",
    "    \n",
    "    return Y_prediction"
   ]
  },
  {
   "cell_type": "code",
   "execution_count": 36,
   "id": "79ca1b17",
   "metadata": {
    "ExecuteTime": {
     "end_time": "2023-07-17T05:54:11.215968Z",
     "start_time": "2023-07-17T05:54:11.201016Z"
    },
    "deletable": false,
    "editable": false,
    "nbgrader": {
     "cell_type": "code",
     "checksum": "3cd7dd4d62dbc1c77ee6092042807f64",
     "grade": true,
     "grade_id": "cell-d1a15c0cd7f9a841",
     "locked": true,
     "points": 5,
     "schema_version": 3,
     "solution": false,
     "task": false
    }
   },
   "outputs": [
    {
     "name": "stdout",
     "output_type": "stream",
     "text": [
      "predictions = [[0. 1. 0.]]\n"
     ]
    }
   ],
   "source": [
    "w = np.array([[0.112368795], [0.48636775]])\n",
    "b = -0.7\n",
    "X = np.array([[1., -1.1, -3.2],[1.2, 2., 0.1]])\n",
    "predictions_ = predict(w, b, X)\n",
    "print (\"predictions = \" + str(predictions_))\n"
   ]
  },
  {
   "cell_type": "markdown",
   "id": "b6b811e1",
   "metadata": {
    "deletable": false,
    "editable": false,
    "nbgrader": {
     "cell_type": "markdown",
     "checksum": "bbae1d4d61dfab11c2777e97f935a006",
     "grade": false,
     "grade_id": "cell-d4cc359161bc1785",
     "locked": true,
     "schema_version": 3,
     "solution": false,
     "task": false
    }
   },
   "source": [
    "### Ejercicio 7 - Modelo\n",
    "\n",
    "Implemente la función \"model()\", usando la siguiente notación:\n",
    "* Y_prediction_test para las predicciones del test set\n",
    "* Y_prediction_train para las predicciones del train set\n",
    "* parameters, grads, costs para las salidas de \"optimize()\""
   ]
  },
  {
   "cell_type": "code",
   "execution_count": 38,
   "id": "b1833a7b",
   "metadata": {
    "ExecuteTime": {
     "end_time": "2023-07-17T05:54:11.232064Z",
     "start_time": "2023-07-17T05:54:11.216928Z"
    },
    "deletable": false,
    "nbgrader": {
     "cell_type": "code",
     "checksum": "2d43f64d1fc5038364da431ce71b1cab",
     "grade": false,
     "grade_id": "cell-0f89124204653d77",
     "locked": false,
     "schema_version": 3,
     "solution": true,
     "task": false
    }
   },
   "outputs": [],
   "source": [
    "def model(X_train, Y_train, X_test, Y_test, num_iterations=2000, learning_rate=0.5, print_cost=False):\n",
    "    \"\"\"\n",
    "    Construye la regresión logística llamando las funciones hechas\n",
    "    \n",
    "    Arguments:\n",
    "    X_train: Training set  (num_px * num_px * 3, m_train)\n",
    "    Y_train: Training labels (1, m_train)\n",
    "    X_test: Test set (num_px * num_px * 3, m_test)\n",
    "    Y_test: Test labels (1, m_test)\n",
    "    num_iterations: Número de iteraciones \n",
    "    learning_rate: Learning rate\n",
    "    print_cost: True para mostrar la pérdida cada 100 pasos\n",
    "    \n",
    "    Returns:\n",
    "    d: Dictionario conteniendo la info del modelo\n",
    "    \"\"\"\n",
    "\n",
    "    # Aprox 1 linea de codigo para inicializar los parametros con cero:\n",
    "    # w, b =\n",
    "    \n",
    "    # Aprox una linea de codigo para gradient descent\n",
    "    # params, grads, costs = \n",
    "    \n",
    "    # Aprox dos lineas de codigo para sacar los parametros del dictionary \"params\"\n",
    "    # w =\n",
    "    # b = \n",
    "    \n",
    "    # Aprox dos lineas de codigo para:\n",
    "    # Y_prediction_test = \n",
    "    # Y_prediction_train = \n",
    "    \n",
    "    # YOUR CODE HERE\n",
    "    w, b = initialize_with_zeros(dim)\n",
    "    \n",
    "    params, grads, costs = optimize(w, b, X_train, Y_train, num_iterations, learning_rate, print_cost)\n",
    "    w = params[\"w\"]\n",
    "    b = params[\"b\"]\n",
    "    \n",
    "    Y_prediction_train = predict(w, b, X_train)\n",
    "    Y_prediction_test  = predict(w, b, X_test)\n",
    "\n",
    "    # Print train/test Errors\n",
    "    if print_cost:\n",
    "        print(\"train accuracy: {} %\".format(100 - np.mean(np.abs(Y_prediction_train - Y_train)) * 100))\n",
    "        print(\"test accuracy: {} %\".format(100 - np.mean(np.abs(Y_prediction_test - Y_test)) * 100))\n",
    "\n",
    "    \n",
    "    d = {\"costs\": costs,\n",
    "         \"Y_prediction_test\": Y_prediction_test, \n",
    "         \"Y_prediction_train\" : Y_prediction_train, \n",
    "         \"w\" : w, \n",
    "         \"b\" : b,\n",
    "         \"learning_rate\" : learning_rate,\n",
    "         \"num_iterations\": num_iterations}\n",
    "    \n",
    "    return d"
   ]
  },
  {
   "cell_type": "code",
   "execution_count": 39,
   "id": "0ae3aaf4",
   "metadata": {
    "ExecuteTime": {
     "end_time": "2023-07-17T05:54:23.785308Z",
     "start_time": "2023-07-17T05:54:11.238001Z"
    },
    "deletable": false,
    "editable": false,
    "nbgrader": {
     "cell_type": "code",
     "checksum": "405b80ca613d46562f53866c44a3e2b3",
     "grade": true,
     "grade_id": "cell-e1614860d213c4da",
     "locked": true,
     "points": 20,
     "schema_version": 3,
     "solution": false,
     "task": false
    }
   },
   "outputs": [
    {
     "ename": "ValueError",
     "evalue": "shapes (1,3) and (12288,557) not aligned: 3 (dim 1) != 12288 (dim 0)",
     "output_type": "error",
     "traceback": [
      "\u001b[1;31m---------------------------------------------------------------------------\u001b[0m",
      "\u001b[1;31mValueError\u001b[0m                                Traceback (most recent call last)",
      "Cell \u001b[1;32mIn[39], line 1\u001b[0m\n\u001b[1;32m----> 1\u001b[0m logistic_regression_model \u001b[38;5;241m=\u001b[39m \u001b[43mmodel\u001b[49m\u001b[43m(\u001b[49m\u001b[43mtrain_set_x\u001b[49m\u001b[43m,\u001b[49m\u001b[43m \u001b[49m\u001b[43mtrain_labels\u001b[49m\u001b[43m,\u001b[49m\u001b[43m \u001b[49m\u001b[43mtest_set_x\u001b[49m\u001b[43m,\u001b[49m\u001b[43m \u001b[49m\u001b[43mtest_labels\u001b[49m\u001b[43m,\u001b[49m\u001b[43m \u001b[49m\u001b[43mnum_iterations\u001b[49m\u001b[38;5;241;43m=\u001b[39;49m\u001b[38;5;241;43m2000\u001b[39;49m\u001b[43m,\u001b[49m\u001b[43m \u001b[49m\u001b[43mlearning_rate\u001b[49m\u001b[38;5;241;43m=\u001b[39;49m\u001b[38;5;241;43m0.005\u001b[39;49m\u001b[43m,\u001b[49m\u001b[43m \u001b[49m\u001b[43mprint_cost\u001b[49m\u001b[38;5;241;43m=\u001b[39;49m\u001b[38;5;28;43;01mTrue\u001b[39;49;00m\u001b[43m)\u001b[49m\n",
      "Cell \u001b[1;32mIn[38], line 35\u001b[0m, in \u001b[0;36mmodel\u001b[1;34m(X_train, Y_train, X_test, Y_test, num_iterations, learning_rate, print_cost)\u001b[0m\n\u001b[0;32m     18\u001b[0m \u001b[38;5;66;03m# Aprox 1 linea de codigo para inicializar los parametros con cero:\u001b[39;00m\n\u001b[0;32m     19\u001b[0m \u001b[38;5;66;03m# w, b =\u001b[39;00m\n\u001b[0;32m     20\u001b[0m \n\u001b[1;32m   (...)\u001b[0m\n\u001b[0;32m     31\u001b[0m \n\u001b[0;32m     32\u001b[0m \u001b[38;5;66;03m# YOUR CODE HERE\u001b[39;00m\n\u001b[0;32m     33\u001b[0m w, b \u001b[38;5;241m=\u001b[39m initialize_with_zeros(dim)\n\u001b[1;32m---> 35\u001b[0m params, grads, costs \u001b[38;5;241m=\u001b[39m \u001b[43moptimize\u001b[49m\u001b[43m(\u001b[49m\u001b[43mw\u001b[49m\u001b[43m,\u001b[49m\u001b[43m \u001b[49m\u001b[43mb\u001b[49m\u001b[43m,\u001b[49m\u001b[43m \u001b[49m\u001b[43mX_train\u001b[49m\u001b[43m,\u001b[49m\u001b[43m \u001b[49m\u001b[43mY_train\u001b[49m\u001b[43m,\u001b[49m\u001b[43m \u001b[49m\u001b[43mnum_iterations\u001b[49m\u001b[43m,\u001b[49m\u001b[43m \u001b[49m\u001b[43mlearning_rate\u001b[49m\u001b[43m,\u001b[49m\u001b[43m \u001b[49m\u001b[43mprint_cost\u001b[49m\u001b[43m)\u001b[49m\n\u001b[0;32m     36\u001b[0m w \u001b[38;5;241m=\u001b[39m params[\u001b[38;5;124m\"\u001b[39m\u001b[38;5;124mw\u001b[39m\u001b[38;5;124m\"\u001b[39m]\n\u001b[0;32m     37\u001b[0m b \u001b[38;5;241m=\u001b[39m params[\u001b[38;5;124m\"\u001b[39m\u001b[38;5;124mb\u001b[39m\u001b[38;5;124m\"\u001b[39m]\n",
      "Cell \u001b[1;32mIn[33], line 34\u001b[0m, in \u001b[0;36moptimize\u001b[1;34m(w, b, X, Y, num_iterations, learning_rate, print_cost)\u001b[0m\n\u001b[0;32m     28\u001b[0m costs \u001b[38;5;241m=\u001b[39m []\n\u001b[0;32m     30\u001b[0m \u001b[38;5;28;01mfor\u001b[39;00m i \u001b[38;5;129;01min\u001b[39;00m \u001b[38;5;28mrange\u001b[39m(num_iterations):\n\u001b[0;32m     31\u001b[0m     \u001b[38;5;66;03m# Aprox 1 línea de codigo para:\u001b[39;00m\n\u001b[0;32m     32\u001b[0m     \u001b[38;5;66;03m# grads, cost = \u001b[39;00m\n\u001b[0;32m     33\u001b[0m     \u001b[38;5;66;03m# YOUR CODE HERE\u001b[39;00m\n\u001b[1;32m---> 34\u001b[0m     grads, cost \u001b[38;5;241m=\u001b[39m \u001b[43mpropagate\u001b[49m\u001b[43m(\u001b[49m\u001b[43mw\u001b[49m\u001b[43m,\u001b[49m\u001b[43m \u001b[49m\u001b[43mb\u001b[49m\u001b[43m,\u001b[49m\u001b[43m \u001b[49m\u001b[43mX\u001b[49m\u001b[43m,\u001b[49m\u001b[43m \u001b[49m\u001b[43mY\u001b[49m\u001b[43m)\u001b[49m\n\u001b[0;32m     36\u001b[0m     \u001b[38;5;66;03m# Retrieve derivatives from grads\u001b[39;00m\n\u001b[0;32m     37\u001b[0m     dw \u001b[38;5;241m=\u001b[39m grads[\u001b[38;5;124m\"\u001b[39m\u001b[38;5;124mdw\u001b[39m\u001b[38;5;124m\"\u001b[39m]\n",
      "Cell \u001b[1;32mIn[31], line 32\u001b[0m, in \u001b[0;36mpropagate\u001b[1;34m(w, b, X, Y)\u001b[0m\n\u001b[0;32m     19\u001b[0m m \u001b[38;5;241m=\u001b[39m X\u001b[38;5;241m.\u001b[39mshape[\u001b[38;5;241m1\u001b[39m]\n\u001b[0;32m     22\u001b[0m \u001b[38;5;66;03m# Forward propagation\u001b[39;00m\n\u001b[0;32m     23\u001b[0m \u001b[38;5;66;03m# Aproximadamente 2 líneas de código para:\u001b[39;00m\n\u001b[0;32m     24\u001b[0m \u001b[38;5;66;03m# A = \u001b[39;00m\n\u001b[1;32m   (...)\u001b[0m\n\u001b[0;32m     30\u001b[0m \u001b[38;5;66;03m# db = \u001b[39;00m\n\u001b[0;32m     31\u001b[0m \u001b[38;5;66;03m# Es decir, se esperan aprox 4 líneas de código\u001b[39;00m\n\u001b[1;32m---> 32\u001b[0m A \u001b[38;5;241m=\u001b[39m sigmoid(\u001b[43mnp\u001b[49m\u001b[38;5;241;43m.\u001b[39;49m\u001b[43mdot\u001b[49m\u001b[43m(\u001b[49m\u001b[43mw\u001b[49m\u001b[38;5;241;43m.\u001b[39;49m\u001b[43mT\u001b[49m\u001b[43m,\u001b[49m\u001b[43m \u001b[49m\u001b[43mX\u001b[49m\u001b[43m)\u001b[49m \u001b[38;5;241m+\u001b[39m b) \n\u001b[0;32m     33\u001b[0m cost \u001b[38;5;241m=\u001b[39m \u001b[38;5;241m-\u001b[39m (\u001b[38;5;241m1\u001b[39m\u001b[38;5;241m/\u001b[39mm) \u001b[38;5;241m*\u001b[39m np\u001b[38;5;241m.\u001b[39msum(Y \u001b[38;5;241m*\u001b[39m np\u001b[38;5;241m.\u001b[39mlog(A) \u001b[38;5;241m+\u001b[39m (\u001b[38;5;241m1\u001b[39m \u001b[38;5;241m-\u001b[39m Y) \u001b[38;5;241m*\u001b[39m np\u001b[38;5;241m.\u001b[39mlog(\u001b[38;5;241m1\u001b[39m \u001b[38;5;241m-\u001b[39m A))\n\u001b[0;32m     34\u001b[0m dw \u001b[38;5;241m=\u001b[39m (\u001b[38;5;241m1\u001b[39m\u001b[38;5;241m/\u001b[39mm) \u001b[38;5;241m*\u001b[39m np\u001b[38;5;241m.\u001b[39mdot(X, (A \u001b[38;5;241m-\u001b[39m Y)\u001b[38;5;241m.\u001b[39mT)\n",
      "\u001b[1;31mValueError\u001b[0m: shapes (1,3) and (12288,557) not aligned: 3 (dim 1) != 12288 (dim 0)"
     ]
    }
   ],
   "source": [
    "logistic_regression_model = model(train_set_x, train_labels, test_set_x, test_labels, num_iterations=2000, learning_rate=0.005, print_cost=True)\n",
    "\n"
   ]
  },
  {
   "cell_type": "code",
   "execution_count": null,
   "id": "e68b65df",
   "metadata": {
    "ExecuteTime": {
     "end_time": "2023-07-17T05:54:23.944150Z",
     "start_time": "2023-07-17T05:54:23.788299Z"
    },
    "deletable": false,
    "editable": false,
    "nbgrader": {
     "cell_type": "code",
     "checksum": "6932f3be9bbea0421b20bf3416c8b163",
     "grade": false,
     "grade_id": "cell-bffc36b8ca79f62a",
     "locked": true,
     "schema_version": 3,
     "solution": false,
     "task": false
    }
   },
   "outputs": [],
   "source": [
    "# Example of a picture that was wrongly classified.\n",
    "index = 1\n",
    "plt.imshow(test_set_x[:, index].reshape((num_px, num_px, 3))) \n",
    "print (\"y = \" + str(test_labels[0,index]) + \", predice que este es un \\\"\" + 'gato' if int(logistic_regression_model['Y_prediction_test'][0,index])==0 else 'perro' +  \"\\\" picture.\")"
   ]
  },
  {
   "cell_type": "code",
   "execution_count": null,
   "id": "4f204061",
   "metadata": {
    "ExecuteTime": {
     "end_time": "2023-07-17T05:54:24.085278Z",
     "start_time": "2023-07-17T05:54:23.946077Z"
    },
    "deletable": false,
    "editable": false,
    "nbgrader": {
     "cell_type": "code",
     "checksum": "436eb59d924860c793ad1a936ab93ac0",
     "grade": false,
     "grade_id": "cell-676e48ce57e75ca2",
     "locked": true,
     "schema_version": 3,
     "solution": false,
     "task": false
    }
   },
   "outputs": [],
   "source": [
    "# Plot learning curve (with costs)\n",
    "costs = np.squeeze(logistic_regression_model['costs'])\n",
    "plt.plot(costs)\n",
    "plt.ylabel('cost')\n",
    "plt.xlabel('iterations (per hundreds)')\n",
    "plt.title(\"Learning rate =\" + str(logistic_regression_model[\"learning_rate\"]))\n",
    "plt.show()"
   ]
  },
  {
   "cell_type": "markdown",
   "id": "c093dba8",
   "metadata": {
    "deletable": false,
    "editable": false,
    "nbgrader": {
     "cell_type": "markdown",
     "checksum": "896a282b5ed36e628803213ada688ab2",
     "grade": false,
     "grade_id": "cell-c58bf1914772341a",
     "locked": true,
     "schema_version": 3,
     "solution": false,
     "task": false
    }
   },
   "source": [
    "**NOTA:** Dentro de los comentarios de la entrega (en Canvas) asegurese de contestar\n",
    "1. ¿Qué se podría hacer para mejorar el rendimiento de esta red?\n",
    "2. Interprete la gráfica de arriba"
   ]
  },
  {
   "cell_type": "markdown",
   "id": "a164468e",
   "metadata": {
    "deletable": false,
    "editable": false,
    "nbgrader": {
     "cell_type": "markdown",
     "checksum": "cb2221fbd08033a3123e3c9dd2c50a92",
     "grade": false,
     "grade_id": "cell-f4a25a189fbe3b59",
     "locked": true,
     "schema_version": 3,
     "solution": false,
     "task": false
    }
   },
   "source": [
    "## Parte 2 - Red Neuronal Simple con PyTorch\n",
    "\n",
    "Para esta parte seguiremos usando el mismo dataset que anteriormente teníamos. \n",
    "\n",
    "Entonces volvamos a cargar las imagenes por paz mental :)"
   ]
  },
  {
   "cell_type": "code",
   "execution_count": null,
   "id": "646bec05",
   "metadata": {
    "ExecuteTime": {
     "end_time": "2023-07-17T05:54:29.215628Z",
     "start_time": "2023-07-17T05:54:24.088562Z"
    },
    "deletable": false,
    "editable": false,
    "nbgrader": {
     "cell_type": "code",
     "checksum": "dd31f315f28ea36d0688c889e6d23823",
     "grade": false,
     "grade_id": "cell-b2aeecb71e5073c7",
     "locked": true,
     "schema_version": 3,
     "solution": false,
     "task": false
    }
   },
   "outputs": [],
   "source": [
    "train_images = []\n",
    "train_labels = []\n",
    "test_images = []\n",
    "test_labels = []\n",
    "\n",
    "# Call the function for both the 'train' and 'test' folders\n",
    "train_cats_path = os.path.join(data_dir, 'train', 'cats')\n",
    "train_dogs_path = os.path.join(data_dir, 'train', 'dogs')\n",
    "test_cats_path = os.path.join(data_dir, 'test', 'cats')\n",
    "test_dogs_path = os.path.join(data_dir, 'test', 'dogs')\n",
    "\n",
    "\n",
    "# Read images\n",
    "target_size = (64, 64)\n",
    "read_images(train_cats_path, \"cats\", target_size)\n",
    "read_images(train_dogs_path, \"dogs\", target_size)\n",
    "read_images(test_cats_path, \"cats\", target_size)\n",
    "read_images(test_dogs_path, \"dogs\", target_size)\n",
    "\n",
    "\n",
    "# Convert the lists to numpy arrays\n",
    "train_images = np.array(train_images)\n",
    "train_labels = np.array(train_labels)\n",
    "test_images = np.array(test_images)\n",
    "test_labels = np.array(test_labels)"
   ]
  },
  {
   "cell_type": "markdown",
   "id": "fe71620b",
   "metadata": {
    "deletable": false,
    "editable": false,
    "nbgrader": {
     "cell_type": "markdown",
     "checksum": "f5f75460a330d1298d6af1f45179a3a5",
     "grade": false,
     "grade_id": "cell-61836b687d6bd4c2",
     "locked": true,
     "schema_version": 3,
     "solution": false,
     "task": false
    }
   },
   "source": [
    "#### Nuevas librerías a usar\n",
    "Asegúrense de instalar las librerías que les hagan falta del siguiente grupo de import.\n",
    "\n",
    "**Recuerden usar virtual envs!**"
   ]
  },
  {
   "cell_type": "code",
   "execution_count": null,
   "id": "746601d3",
   "metadata": {
    "ExecuteTime": {
     "end_time": "2023-07-17T05:54:31.170534Z",
     "start_time": "2023-07-17T05:54:29.217623Z"
    },
    "deletable": false,
    "editable": false,
    "nbgrader": {
     "cell_type": "code",
     "checksum": "dc4625560ea9acafe0617f5df3f99f41",
     "grade": false,
     "grade_id": "cell-765ea5c91dd4cdfa",
     "locked": true,
     "schema_version": 3,
     "solution": false,
     "task": false
    }
   },
   "outputs": [],
   "source": [
    "import torch\n",
    "import torch.nn as nn\n",
    "import torch.optim as optim\n",
    "import torch.nn.functional as F\n",
    "from torch.utils.data import Dataset, DataLoader\n",
    "from PIL import Image\n",
    "import torch.utils.data as data\n",
    "import random\n",
    "\n",
    "\n",
    "# Seed all possible\n",
    "seed_ = 2023\n",
    "random.seed(seed_)\n",
    "np.random.seed(seed_)\n",
    "torch.manual_seed(seed_)\n",
    "\n",
    "# If using CUDA, you can set the seed for CUDA devices as well\n",
    "if torch.cuda.is_available():\n",
    "    torch.cuda.manual_seed(seed_)\n",
    "    torch.cuda.manual_seed_all(seed_)\n",
    "    \n",
    "import torch.backends.cudnn as cudnn\n",
    "cudnn.deterministic = True\n",
    "cudnn.benchmark = False"
   ]
  },
  {
   "cell_type": "markdown",
   "id": "31a23f0e",
   "metadata": {
    "deletable": false,
    "editable": false,
    "nbgrader": {
     "cell_type": "markdown",
     "checksum": "36a191e59c98c1b68f597c748e741e2f",
     "grade": false,
     "grade_id": "cell-4763cde0de2b8807",
     "locked": true,
     "schema_version": 3,
     "solution": false,
     "task": false
    }
   },
   "source": [
    "Para poder usar PyTorch de una mejor manera con nuestro dataset de imagenes, tendremos que \"formalizar\" la manera en que cargamos las imagenes. Para ello crearemos una clase que represente el Dataset con el que estaremos trabajando"
   ]
  },
  {
   "cell_type": "code",
   "execution_count": null,
   "id": "96364600",
   "metadata": {
    "ExecuteTime": {
     "end_time": "2023-07-17T05:54:31.185981Z",
     "start_time": "2023-07-17T05:54:31.171535Z"
    },
    "deletable": false,
    "editable": false,
    "nbgrader": {
     "cell_type": "code",
     "checksum": "053c1c6465ff0f74d8a0e9e2ac2c11cc",
     "grade": false,
     "grade_id": "cell-2395d91aad8741d8",
     "locked": true,
     "schema_version": 3,
     "solution": false,
     "task": false
    }
   },
   "outputs": [],
   "source": [
    "class CatsAndDogsDataset(data.Dataset):\n",
    "    def __init__(self, data_dir, target_size=(28, 28), color_mode='RGB', train=True):\n",
    "        self.data_dir = data_dir\n",
    "        self.target_size = target_size\n",
    "        self.color_mode = color_mode\n",
    "        self.classes = ['cats', 'dogs']\n",
    "        self.train = train\n",
    "        self.image_paths, self.labels = self.load_image_paths_and_labels()\n",
    "\n",
    "    def __len__(self):\n",
    "        return len(self.image_paths)\n",
    "\n",
    "    def __getitem__(self, idx):\n",
    "        image_path = self.image_paths[idx]\n",
    "        image = Image.open(image_path)\n",
    "        image = image.convert(self.color_mode)\n",
    "        image = image.resize(self.target_size)\n",
    "        image = np.array(image)\n",
    "        image = (image / 255.0 - 0.5) / 0.5  # Normalize to range [-1, 1]\n",
    "        image = torch.tensor(image, dtype=torch.float32)\n",
    "        image = image.view(-1)\n",
    "\n",
    "        label = torch.tensor(self.labels[idx], dtype=torch.long)\n",
    "\n",
    "        return image, label\n",
    "\n",
    "    def load_image_paths_and_labels(self):\n",
    "        image_paths = []\n",
    "        labels = []\n",
    "        for class_idx, class_name in enumerate(self.classes):\n",
    "            class_path = os.path.join(self.data_dir, 'train' if self.train else 'test', class_name)\n",
    "            for filename in os.listdir(class_path):\n",
    "                image_path = os.path.join(class_path, filename)\n",
    "                image_paths.append(image_path)\n",
    "                labels.append(class_idx)\n",
    "        return image_paths, labels\n"
   ]
  },
  {
   "cell_type": "markdown",
   "id": "92b49e31",
   "metadata": {
    "deletable": false,
    "editable": false,
    "nbgrader": {
     "cell_type": "markdown",
     "checksum": "2521836730f73fabc2388a18bd3c24bd",
     "grade": false,
     "grade_id": "cell-058ea7eaad08cddf",
     "locked": true,
     "points": 0,
     "schema_version": 3,
     "solution": false,
     "task": true
    }
   },
   "source": [
    "### Definición de la red neuronal\n",
    "Una de las formas de definir una red neuronal con PyTorch es através del uso de clases. En esta el constructor usualmente tiene las capas que se usaran, mientras que la función que se extiende \"forward()\" hace clara la relación entre las capas.\n",
    "\n",
    "Para poder entenderlo, hay que leer desde la función más interna hacia afuera y de arriba hacia abajo. Por ejemplo, en la línea 8, la capa fc1 (que es una lineal), pasa luego a una función de activación ReLU, despues la información pasa a una segunda lineal (fc2), para finalmente pasar por una función de activación SoftMax"
   ]
  },
  {
   "cell_type": "code",
   "execution_count": null,
   "id": "7e27aece",
   "metadata": {
    "ExecuteTime": {
     "end_time": "2023-07-17T05:54:31.201417Z",
     "start_time": "2023-07-17T05:54:31.187561Z"
    },
    "deletable": false,
    "editable": false,
    "nbgrader": {
     "cell_type": "code",
     "checksum": "c533a0c5937c36ef74d0cb07efa3bc4f",
     "grade": false,
     "grade_id": "cell-b8604c4d0eb2f6b4",
     "locked": true,
     "schema_version": 3,
     "solution": false,
     "task": false
    }
   },
   "outputs": [],
   "source": [
    "class SimpleClassifier(nn.Module):\n",
    "    def __init__(self, input_size, hidden_size, output_size):\n",
    "        super(SimpleClassifier, self).__init__()\n",
    "        self.fc1 = nn.Linear(input_size, hidden_size)\n",
    "        self.fc2 = nn.Linear(hidden_size, output_size)\n",
    "\n",
    "    def forward(self, x):\n",
    "        x = torch.relu(self.fc1(x))   # Feedforward step: Compute hidden layer activations\n",
    "        x = self.fc2(x)              # Feedforward step: Compute output layer activations\n",
    "        return F.log_softmax(x, dim=1)\n"
   ]
  },
  {
   "cell_type": "markdown",
   "id": "ac1b09fe",
   "metadata": {
    "deletable": false,
    "editable": false,
    "nbgrader": {
     "cell_type": "markdown",
     "checksum": "6f397a94a029fe7e2f304a4be6eee7bf",
     "grade": false,
     "grade_id": "cell-8271cecfe3206d48",
     "locked": true,
     "schema_version": 3,
     "solution": false,
     "task": false
    }
   },
   "source": [
    "### Definición de la función de entrenamiento\n",
    "\n",
    "Una forma de entrenar una red neuronal con PyTorch es, tras haber definido el modelo, se pasa a definir una función que se encargará de realizar el entrenamiento. Esto incluye tanto el paso de feedforward como el de back propagation. \n",
    "\n",
    "Deberá terminar de implementar las funciones dadas según se solicita"
   ]
  },
  {
   "cell_type": "code",
   "execution_count": null,
   "id": "2cfe097f",
   "metadata": {
    "ExecuteTime": {
     "end_time": "2023-07-17T05:54:31.216967Z",
     "start_time": "2023-07-17T05:54:31.202457Z"
    },
    "deletable": false,
    "nbgrader": {
     "cell_type": "code",
     "checksum": "8daebd894856365339cf6632a58f2ebd",
     "grade": false,
     "grade_id": "cell-c904fc2d2befd342",
     "locked": false,
     "schema_version": 3,
     "solution": true,
     "task": false
    }
   },
   "outputs": [],
   "source": [
    "loss_history = [] # DO NOT DELETE\n",
    "\n",
    "def train_model(model, train_loader, optimizer, criterion, epochs):\n",
    "    model.train()\n",
    "    for epoch in range(epochs):\n",
    "        running_loss = 0.0\n",
    "        for inputs, labels in train_loader:\n",
    "            inputs = inputs.view(-1, input_size)\n",
    "\n",
    "            # Feedforward step: Compute the predicted output\n",
    "            \n",
    "            # Aprox 1 a 3 líneas (depende del acercamiento), la salida debe ser:\n",
    "            # outputs = \n",
    "            # Pueden usar un acercamiento step-by-step (puntos extra)\n",
    "            #     En esta deberían usar primero \n",
    "            #     # hidden_layer_activations = # Usando torch.relu, torch.matmul\n",
    "            #     # output_layer_activations = # Usando torch.matmul\n",
    "            # O usar una forma más directa\n",
    "            # YOUR CODE HERE\n",
    "            raise NotImplementedError()\n",
    "\n",
    "            # Compute the cost (loss)\n",
    "            \n",
    "            # Aprox 1 linea para calculo de la perdida\n",
    "            # loss = \n",
    "            # YOUR CODE HERE\n",
    "            raise NotImplementedError()\n",
    "            \n",
    "            # Backpropagation step: Compute gradients of the loss with respect to the model's parameters\n",
    "            \n",
    "            # Aprox 2 lineas para:\n",
    "            # Limpiar gradientes previas usnado el optimizer\n",
    "            # Computar las gradientes usando autograd\n",
    "            # YOUR CODE HERE\n",
    "            raise NotImplementedError()\n",
    "\n",
    "            # Update the model's parameters using the computed gradients\n",
    "            \n",
    "            # Aprox 1 linea para:\n",
    "            # Hacer un paso en la optimización, usar el optimizer\n",
    "            # YOUR CODE HERE\n",
    "            raise NotImplementedError()\n",
    "\n",
    "            running_loss += loss.item()\n",
    "\n",
    "        print(f\"Epoch {epoch+1}/{epochs}, Loss: {running_loss/len(train_loader)}\")\n",
    "        loss_history.append(running_loss/len(train_loader))\n",
    "\n",
    "    print(\"Training complete!\")"
   ]
  },
  {
   "cell_type": "code",
   "execution_count": null,
   "id": "da62c6c6",
   "metadata": {
    "ExecuteTime": {
     "end_time": "2023-07-17T05:54:31.246269Z",
     "start_time": "2023-07-17T05:54:31.217968Z"
    },
    "deletable": false,
    "editable": false,
    "nbgrader": {
     "cell_type": "code",
     "checksum": "61f1b8e2275c2ccddc81700e02f35086",
     "grade": false,
     "grade_id": "cell-3ef8a5dd5e9156d1",
     "locked": true,
     "schema_version": 3,
     "solution": false,
     "task": false
    }
   },
   "outputs": [],
   "source": [
    "input_size = 64 * 64 * 3  \n",
    "hidden_size = 125\n",
    "output_size = 2  # 2 classes: cat and dog\n",
    "\n",
    "model = SimpleClassifier(input_size, hidden_size, output_size)\n",
    "optimizer = optim.SGD(model.parameters(), lr=0.01)\n",
    "criterion = nn.NLLLoss()\n",
    "\n",
    "# Loading datasets\n",
    "train_dataset = CatsAndDogsDataset(data_dir, target_size=(64, 64), color_mode='RGB', train=True)\n",
    "train_loader = torch.utils.data.DataLoader(train_dataset, batch_size=32, shuffle=True)"
   ]
  },
  {
   "cell_type": "code",
   "execution_count": null,
   "id": "95bccaaa",
   "metadata": {
    "ExecuteTime": {
     "end_time": "2023-07-17T05:54:54.285404Z",
     "start_time": "2023-07-17T05:54:31.248051Z"
    }
   },
   "outputs": [],
   "source": [
    "train_model(model, train_loader, optimizer, criterion, epochs=5)"
   ]
  },
  {
   "cell_type": "code",
   "execution_count": null,
   "id": "563e260a",
   "metadata": {
    "ExecuteTime": {
     "end_time": "2023-07-17T05:54:54.301362Z",
     "start_time": "2023-07-17T05:54:54.287399Z"
    },
    "deletable": false,
    "editable": false,
    "nbgrader": {
     "cell_type": "code",
     "checksum": "bb24478d9e1ebfdee2a254819dfe3cc8",
     "grade": true,
     "grade_id": "cell-64d557bca5dfd944",
     "locked": true,
     "points": 15,
     "schema_version": 3,
     "solution": false,
     "task": false
    }
   },
   "outputs": [],
   "source": [
    "print(\"Loss:\", loss_history)\n"
   ]
  },
  {
   "cell_type": "markdown",
   "id": "cbde9545",
   "metadata": {
    "deletable": false,
    "editable": false,
    "nbgrader": {
     "cell_type": "markdown",
     "checksum": "8d58d27ae5db79cdbfb5df9a63eaaf62",
     "grade": false,
     "grade_id": "cell-e436de5831d9e2b2",
     "locked": true,
     "schema_version": 3,
     "solution": false,
     "task": false
    }
   },
   "source": [
    "También necesitamos una forma de probar nuestro modelo para ello usamos la siguiente"
   ]
  },
  {
   "cell_type": "code",
   "execution_count": null,
   "id": "f2a2def8",
   "metadata": {
    "ExecuteTime": {
     "end_time": "2023-07-17T05:54:54.317319Z",
     "start_time": "2023-07-17T05:54:54.302360Z"
    },
    "deletable": false,
    "editable": false,
    "nbgrader": {
     "cell_type": "code",
     "checksum": "2904e4c2b4228df747faee9ef28c7a68",
     "grade": false,
     "grade_id": "cell-b199a49ced7e832e",
     "locked": true,
     "schema_version": 3,
     "solution": false,
     "task": false
    }
   },
   "outputs": [],
   "source": [
    "def test_model(model, test_loader):\n",
    "    \"\"\"\n",
    "    Evaluate the performance of a trained neural network model on the test data.\n",
    "    \n",
    "    Arguments:\n",
    "    model: The trained neural network model to be evaluated.\n",
    "    test_loader: The DataLoader containing the test data and labels.\n",
    "    \"\"\"\n",
    "    \n",
    "    model.eval()  # Set the model in evaluation mode\n",
    "\n",
    "    correct = 0\n",
    "    total = 0\n",
    "\n",
    "    with torch.no_grad():\n",
    "        for inputs, labels in test_loader:\n",
    "            inputs = inputs.view(-1, input_size)\n",
    "            labels = labels.view(-1)  # Reshape the labels to be compatible with NLLLoss()\n",
    "\n",
    "            # Forward pass\n",
    "            outputs = model(inputs)\n",
    "\n",
    "            # Get predictions\n",
    "            _, predicted = torch.max(outputs.data, 1)\n",
    "\n",
    "            total += labels.size(0)\n",
    "            correct += (predicted == labels).sum().item()\n",
    "\n",
    "    accuracy = 100 * correct / total\n",
    "    print(f\"Test Accuracy: {accuracy:.2f}%\")\n",
    "    return accuracy"
   ]
  },
  {
   "cell_type": "code",
   "execution_count": null,
   "id": "2ed59b27",
   "metadata": {
    "ExecuteTime": {
     "end_time": "2023-07-17T05:54:54.333277Z",
     "start_time": "2023-07-17T05:54:54.319315Z"
    },
    "deletable": false,
    "editable": false,
    "nbgrader": {
     "cell_type": "code",
     "checksum": "8913061cb4e269f8fb266e0781be533a",
     "grade": false,
     "grade_id": "cell-99107a479a9d6a92",
     "locked": true,
     "schema_version": 3,
     "solution": false,
     "task": false
    }
   },
   "outputs": [],
   "source": [
    "test_dataset = CatsAndDogsDataset(data_dir, target_size=(64, 64), color_mode='RGB', train=False)\n",
    "test_loader = torch.utils.data.DataLoader(test_dataset, batch_size=32, shuffle=True)"
   ]
  },
  {
   "cell_type": "code",
   "execution_count": null,
   "id": "c1afa919",
   "metadata": {
    "ExecuteTime": {
     "end_time": "2023-07-17T05:54:55.417414Z",
     "start_time": "2023-07-17T05:54:54.335271Z"
    },
    "deletable": false,
    "editable": false,
    "nbgrader": {
     "cell_type": "code",
     "checksum": "56ae85f10ecf05ca854bfac94222ae41",
     "grade": true,
     "grade_id": "cell-c7127a2eea92959e",
     "locked": true,
     "points": 15,
     "schema_version": 3,
     "solution": false,
     "task": false
    }
   },
   "outputs": [],
   "source": [
    "# Evaluate the model on the test dataset\n",
    "asset_accuracy = test_model(model, test_loader)\n",
    "\n",
    "asset_accuracy\n"
   ]
  },
  {
   "cell_type": "markdown",
   "id": "1ccef797",
   "metadata": {
    "ExecuteTime": {
     "end_time": "2023-07-17T05:46:09.982628Z",
     "start_time": "2023-07-17T05:46:09.969632Z"
    }
   },
   "source": [
    "**NOTA:** Dentro de los comentarios de la entrega (en Canvas) asegurese de contestar\n",
    "    \n",
    "3. ¿En qué consiste ```optim.SGD```?\n",
    "4. ¿En qué consiste ```nn.NLLLoss```?\n",
    "5. ¿Qué podría hacer para mejorar la red neuronal, y si no hay mejoras, por qué?\n",
    "\n",
    "Al preguntarlse \"en qué consiste...\", se espera que las expliquelas en sus propias palabras"
   ]
  },
  {
   "cell_type": "markdown",
   "id": "51fa15e1",
   "metadata": {
    "deletable": false,
    "editable": false,
    "nbgrader": {
     "cell_type": "markdown",
     "checksum": "74219c6ea0714bfcf1ed1188b5f077b2",
     "grade": false,
     "grade_id": "cell-99957b9f4b01f21d",
     "locked": true,
     "schema_version": 3,
     "solution": false,
     "task": false
    }
   },
   "source": [
    "## Calificación\n",
    "\n",
    "**Asegúrese de que su notebook corra sin errores (quite o resuelva los raise NotImplementedError()) y luego reinicie el kernel y vuelva a correr todas las celdas para obtener su calificación correcta**"
   ]
  },
  {
   "cell_type": "code",
   "execution_count": null,
   "id": "7d0161dc",
   "metadata": {
    "ExecuteTime": {
     "end_time": "2023-07-17T05:54:55.433334Z",
     "start_time": "2023-07-17T05:54:55.419372Z"
    },
    "deletable": false,
    "editable": false,
    "nbgrader": {
     "cell_type": "code",
     "checksum": "ec7a5a902705545b79fc18dd10e3e129",
     "grade": true,
     "grade_id": "cell-a01a87cecb396101",
     "locked": true,
     "points": 0,
     "schema_version": 3,
     "solution": false,
     "task": false
    }
   },
   "outputs": [],
   "source": [
    "\n",
    "print()\n",
    "print(\"La fraccion de abajo muestra su rendimiento basado en las partes visibles de este laboratorio\")\n",
    "tick.summarise_marks() # \n"
   ]
  },
  {
   "cell_type": "code",
   "execution_count": null,
   "id": "0f3b7b32",
   "metadata": {},
   "outputs": [],
   "source": []
  }
 ],
 "metadata": {
  "hide_input": false,
  "kernelspec": {
   "display_name": "Python 3",
   "language": "python",
   "name": "python3"
  },
  "language_info": {
   "codemirror_mode": {
    "name": "ipython",
    "version": 3
   },
   "file_extension": ".py",
   "mimetype": "text/x-python",
   "name": "python",
   "nbconvert_exporter": "python",
   "pygments_lexer": "ipython3",
   "version": "3.12.4"
  },
  "toc": {
   "base_numbering": 1,
   "nav_menu": {},
   "number_sections": true,
   "sideBar": true,
   "skip_h1_title": false,
   "title_cell": "Table of Contents",
   "title_sidebar": "Contents",
   "toc_cell": false,
   "toc_position": {},
   "toc_section_display": true,
   "toc_window_display": false
  },
  "varInspector": {
   "cols": {
    "lenName": 16,
    "lenType": 16,
    "lenVar": 40
   },
   "kernels_config": {
    "python": {
     "delete_cmd_postfix": "",
     "delete_cmd_prefix": "del ",
     "library": "var_list.py",
     "varRefreshCmd": "print(var_dic_list())"
    },
    "r": {
     "delete_cmd_postfix": ") ",
     "delete_cmd_prefix": "rm(",
     "library": "var_list.r",
     "varRefreshCmd": "cat(var_dic_list()) "
    }
   },
   "types_to_exclude": [
    "module",
    "function",
    "builtin_function_or_method",
    "instance",
    "_Feature"
   ],
   "window_display": false
  }
 },
 "nbformat": 4,
 "nbformat_minor": 5
}
